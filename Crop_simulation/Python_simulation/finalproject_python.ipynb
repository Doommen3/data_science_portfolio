{
 "cells": [
  {
   "cell_type": "code",
   "execution_count": 340,
   "id": "c741cf0b-aeb2-410f-8ae6-bc67b1fff526",
   "metadata": {},
   "outputs": [],
   "source": [
    "import pandas as pd\n",
    "import numpy as np\n",
    "from scipy import stats\n",
    "from scipy import special\n",
    "import matplotlib as mpl\n",
    "import matplotlib.pyplot as plt"
   ]
  },
  {
   "cell_type": "code",
   "execution_count": 464,
   "id": "f4091ff0-0394-4049-bc05-9fb2f487fa77",
   "metadata": {},
   "outputs": [],
   "source": [
    "def simCorn(overallEffect=0, fertilizerEffect=[0,0,0], rowEffect=[0,0,0], colEffect=[0,0,0], seed= None, dist: callable = np.random.normal, **extra):\n",
    "    n = len(fertilizerEffect)**2\n",
    "\n",
    "    if type(seed) is not int and seed is not None:\n",
    "        return print(\"You entered an invalid seed\")\n",
    "\n",
    "\n",
    "    elif seed is not None:\n",
    "        np.random.seed(seed)\n",
    "        dist = dist\n",
    "        errors = dist(size = (n), **extra)\n",
    "\n",
    "        fert_vec = np.array(fertilizerEffect)\n",
    "        row_vec = np.array(rowEffect)\n",
    "        col_vec = np.array(colEffect)\n",
    "\n",
    "        fert_vec = np.resize(fert_vec,n)\n",
    "        row_vec = np.resize(row_vec,n)\n",
    "        col_vec = np.resize(col_vec,n)\n",
    "    \n",
    "\n",
    "        Fertilizer = np.array([\"A\", \"B\", \"C\", \"C\", \"A\", \"B\", \"B\", \"C\", \"A\"])\n",
    "        Row = np.array([1, 1, 1, 2, 2, 2, 3, 3, 3])\n",
    "        Column = np.array([1, 2, 3, 1, 2, 3, 1, 2, 3])\n",
    "\n",
    "\n",
    "\n",
    "        Yield = overallEffect + fert_vec + row_vec + col_vec + errors\n",
    "\n",
    "        data = np.zeros(n, \n",
    "                    dtype = {'names': ('Fertilizer', 'Row', 'Column', 'Yield'),\n",
    "                             'formats': ('U16', 'i8', 'i8', 'f8')})\n",
    "\n",
    "        data['Fertilizer'] = Fertilizer\n",
    "        data['Row'] = Row\n",
    "        data['Column'] = Column \n",
    "        data['Yield'] = Yield\n",
    "    \n",
    "\n",
    "        x = pd.DataFrame(data = data) \n",
    "\n",
    "\n",
    "    elif seed is None:\n",
    "        dist = dist\n",
    "        errors = dist(size = (n), **extra)\n",
    "\n",
    "        fert_vec = np.array(fertilizerEffect)\n",
    "        row_vec = np.array(rowEffect)\n",
    "        col_vec = np.array(colEffect)\n",
    "\n",
    "        fert_vec = np.resize(fert_vec,n)\n",
    "        row_vec = np.resize(row_vec,n)\n",
    "        col_vec = np.resize(col_vec,n)\n",
    "    \n",
    "\n",
    "        Fertilizer = np.array([\"A\", \"B\", \"C\", \"C\", \"A\", \"B\", \"B\", \"C\", \"A\"])\n",
    "        Row = np.array([1, 1, 1, 2, 2, 2, 3, 3, 3])\n",
    "        Column = np.array([1, 2, 3, 1, 2, 3, 1, 2, 3])\n",
    "\n",
    "\n",
    "\n",
    "        Yield = overallEffect + fert_vec + row_vec + col_vec + errors\n",
    "\n",
    "        data = np.zeros(n, \n",
    "                    dtype = {'names': ('Fertilizer', 'Row', 'Column', 'Yield'),\n",
    "                             'formats': ('U16', 'i8', 'i8', 'f8')})\n",
    "\n",
    "        data['Fertilizer'] = Fertilizer\n",
    "        data['Row'] = Row\n",
    "        data['Column'] = Column \n",
    "        data['Yield'] = Yield\n",
    "    \n",
    "\n",
    "        x = pd.DataFrame(data = data) \n",
    " \n",
    "        \n",
    "\n",
    "\n",
    "        \n",
    "\n",
    "        return x\n",
    "\n",
    "        "
   ]
  },
  {
   "cell_type": "code",
   "execution_count": 466,
   "id": "928ab9af-d626-4e48-a62b-18205220067e",
   "metadata": {},
   "outputs": [
    {
     "data": {
      "text/html": [
       "<div>\n",
       "<style scoped>\n",
       "    .dataframe tbody tr th:only-of-type {\n",
       "        vertical-align: middle;\n",
       "    }\n",
       "\n",
       "    .dataframe tbody tr th {\n",
       "        vertical-align: top;\n",
       "    }\n",
       "\n",
       "    .dataframe thead th {\n",
       "        text-align: right;\n",
       "    }\n",
       "</style>\n",
       "<table border=\"1\" class=\"dataframe\">\n",
       "  <thead>\n",
       "    <tr style=\"text-align: right;\">\n",
       "      <th></th>\n",
       "      <th>Fertilizer</th>\n",
       "      <th>Row</th>\n",
       "      <th>Column</th>\n",
       "      <th>Yield</th>\n",
       "    </tr>\n",
       "  </thead>\n",
       "  <tbody>\n",
       "    <tr>\n",
       "      <th>0</th>\n",
       "      <td>A</td>\n",
       "      <td>1</td>\n",
       "      <td>1</td>\n",
       "      <td>0.441227</td>\n",
       "    </tr>\n",
       "    <tr>\n",
       "      <th>1</th>\n",
       "      <td>B</td>\n",
       "      <td>1</td>\n",
       "      <td>2</td>\n",
       "      <td>-0.330870</td>\n",
       "    </tr>\n",
       "    <tr>\n",
       "      <th>2</th>\n",
       "      <td>C</td>\n",
       "      <td>1</td>\n",
       "      <td>3</td>\n",
       "      <td>2.430771</td>\n",
       "    </tr>\n",
       "    <tr>\n",
       "      <th>3</th>\n",
       "      <td>C</td>\n",
       "      <td>2</td>\n",
       "      <td>1</td>\n",
       "      <td>-0.252092</td>\n",
       "    </tr>\n",
       "    <tr>\n",
       "      <th>4</th>\n",
       "      <td>A</td>\n",
       "      <td>2</td>\n",
       "      <td>2</td>\n",
       "      <td>0.109610</td>\n",
       "    </tr>\n",
       "    <tr>\n",
       "      <th>5</th>\n",
       "      <td>B</td>\n",
       "      <td>2</td>\n",
       "      <td>3</td>\n",
       "      <td>1.582481</td>\n",
       "    </tr>\n",
       "    <tr>\n",
       "      <th>6</th>\n",
       "      <td>B</td>\n",
       "      <td>3</td>\n",
       "      <td>1</td>\n",
       "      <td>-0.909232</td>\n",
       "    </tr>\n",
       "    <tr>\n",
       "      <th>7</th>\n",
       "      <td>C</td>\n",
       "      <td>3</td>\n",
       "      <td>2</td>\n",
       "      <td>-0.591637</td>\n",
       "    </tr>\n",
       "    <tr>\n",
       "      <th>8</th>\n",
       "      <td>A</td>\n",
       "      <td>3</td>\n",
       "      <td>3</td>\n",
       "      <td>0.187603</td>\n",
       "    </tr>\n",
       "  </tbody>\n",
       "</table>\n",
       "</div>"
      ],
      "text/plain": [
       "  Fertilizer  Row  Column     Yield\n",
       "0          A    1       1  0.441227\n",
       "1          B    1       2 -0.330870\n",
       "2          C    1       3  2.430771\n",
       "3          C    2       1 -0.252092\n",
       "4          A    2       2  0.109610\n",
       "5          B    2       3  1.582481\n",
       "6          B    3       1 -0.909232\n",
       "7          C    3       2 -0.591637\n",
       "8          A    3       3  0.187603"
      ]
     },
     "execution_count": 466,
     "metadata": {},
     "output_type": "execute_result"
    }
   ],
   "source": [
    "simCorn()"
   ]
  },
  {
   "cell_type": "code",
   "execution_count": 468,
   "id": "b6c90c7a-ac49-4fda-ad0c-a0fff2628cec",
   "metadata": {},
   "outputs": [
    {
     "ename": "SyntaxError",
     "evalue": "positional argument follows keyword argument (3058572527.py, line 6)",
     "output_type": "error",
     "traceback": [
      "\u001b[0;36m  Cell \u001b[0;32mIn[468], line 6\u001b[0;36m\u001b[0m\n\u001b[0;31m    seed=29429, rnorm, mean=3, sd=2)\u001b[0m\n\u001b[0m                                   ^\u001b[0m\n\u001b[0;31mSyntaxError\u001b[0m\u001b[0;31m:\u001b[0m positional argument follows keyword argument\n"
     ]
    }
   ],
   "source": [
    "mu = 7       \n",
    "alpha = np.array(1,2,3)\n",
    "beta = np.array(2,2,1)\n",
    "gamma = np.array(3,3,2)\n",
    "y = simCorn(overallEffect=mu, fertilizerEffect=alpha, rowEffect=beta, colEffect=gamma,\n",
    "              seed=29429, rnorm, mean=3, sd=2)"
   ]
  },
  {
   "cell_type": "code",
   "execution_count": 470,
   "id": "3d0818db-bf40-4fa1-aaae-01709f36d4c5",
   "metadata": {},
   "outputs": [],
   "source": [
    "sim_1 = simCorn(overallEffect=10, dist=np.random.normal) \n",
    "sim_2 = simCorn(overallEffect=10, fertilizerEffect=(1,2,3), rowEffect=(0,0,1), colEffect=(0,0,1), dist=np.random.normal)\n",
    "sim_3 = simCorn(overallEffect=10, fertilizerEffect=(1,2,3), rowEffect=(1,0,1), colEffect=(0,1,1), dist=np.random.normal)\n",
    "sim_4 = simCorn(overallEffect=10, fertilizerEffect=(1,2,3), rowEffect=(1,0,1), colEffect=(0,1,1), dist=np.random.normal)\n",
    "sim_5 = simCorn(overallEffect=10, fertilizerEffect=(1,2,3), rowEffect=(0,0,1), colEffect=(0,0,1), dist=np.random.exponential)\n",
    "sim_6 = simCorn(overallEffect=10, fertilizerEffect=(1,2,3), rowEffect=(1,0,1), colEffect=(0,1,1), dist=np.random.exponential)\n",
    "sim_7 = simCorn(overallEffect=10, fertilizerEffect=(1,2,3), rowEffect=(0,1,0), colEffect=(0,1,0), dist=np.random.exponential)"
   ]
  },
  {
   "cell_type": "code",
   "execution_count": 472,
   "id": "8236b798-2336-4122-93dd-2dcc5a14bfd4",
   "metadata": {},
   "outputs": [
    {
     "name": "stdout",
     "output_type": "stream",
     "text": [
      "[0.07649011 0.07649011 0.07649011 0.07649011 0.07649011 0.07649011\n",
      " 0.07649011 0.07649011 0.07649011 0.07649011 0.07649011 0.07649011\n",
      " 0.07649011 0.07649011 0.07649011 0.07649011 0.07649011 0.07649011\n",
      " 0.07649011 0.07649011 0.07649011 0.07649011 0.07649011 0.07649011\n",
      " 0.07649011 0.07649011 0.07649011 0.07649011 0.07649011 0.07649011\n",
      " 0.07649011 0.07649011 0.07649011 0.07649011 0.07649011 0.07649011\n",
      " 0.07649011 0.07649011 0.07649011 0.07649011 0.07649011 0.07649011\n",
      " 0.07649011 0.07649011 0.07649011 0.07649011 0.07649011 0.07649011\n",
      " 0.07649011 0.07649011 0.07649011 0.07649011 0.07649011 0.07649011\n",
      " 0.07649011 0.07649011 0.07649011 0.07649011 0.07649011 0.07649011\n",
      " 0.07649011 0.07649011 0.07649011 0.07649011 0.07649011 0.07649011\n",
      " 0.07649011 0.07649011 0.07649011 0.07649011 0.07649011 0.07649011\n",
      " 0.07649011 0.07649011 0.07649011 0.07649011 0.07649011 0.07649011\n",
      " 0.07649011 0.07649011 0.07649011 0.07649011 0.07649011 0.07649011\n",
      " 0.07649011 0.07649011 0.07649011 0.07649011 0.07649011 0.07649011\n",
      " 0.07649011 0.07649011 0.07649011 0.07649011 0.07649011 0.07649011\n",
      " 0.07649011 0.07649011 0.07649011 0.07649011]\n"
     ]
    }
   ],
   "source": [
    "p_vector_1 = np.zeros(100)\n",
    "np.random.seed(1331)\n",
    "for i in range(100):\n",
    "    df = sim_1\n",
    "    \n",
    "    groups = [grp[\"Yield\"].values\n",
    "              for _, grp in df.groupby(\"Fertilizer\")]\n",
    "    \n",
    "    F_stat, p_val = stats.f_oneway(*groups)\n",
    "    \n",
    "    p_vector[i] = p_val\n",
    "\n",
    "print(p_vector)"
   ]
  },
  {
   "cell_type": "code",
   "execution_count": 476,
   "id": "cbfc78d9-8509-48da-b518-94d02831a9b5",
   "metadata": {},
   "outputs": [
    {
     "name": "stdout",
     "output_type": "stream",
     "text": [
      "[0.79839736 0.79839736 0.79839736 0.79839736 0.79839736 0.79839736\n",
      " 0.79839736 0.79839736 0.79839736 0.79839736 0.79839736 0.79839736\n",
      " 0.79839736 0.79839736 0.79839736 0.79839736 0.79839736 0.79839736\n",
      " 0.79839736 0.79839736 0.79839736 0.79839736 0.79839736 0.79839736\n",
      " 0.79839736 0.79839736 0.79839736 0.79839736 0.79839736 0.79839736\n",
      " 0.79839736 0.79839736 0.79839736 0.79839736 0.79839736 0.79839736\n",
      " 0.79839736 0.79839736 0.79839736 0.79839736 0.79839736 0.79839736\n",
      " 0.79839736 0.79839736 0.79839736 0.79839736 0.79839736 0.79839736\n",
      " 0.79839736 0.79839736 0.79839736 0.79839736 0.79839736 0.79839736\n",
      " 0.79839736 0.79839736 0.79839736 0.79839736 0.79839736 0.79839736\n",
      " 0.79839736 0.79839736 0.79839736 0.79839736 0.79839736 0.79839736\n",
      " 0.79839736 0.79839736 0.79839736 0.79839736 0.79839736 0.79839736\n",
      " 0.79839736 0.79839736 0.79839736 0.79839736 0.79839736 0.79839736\n",
      " 0.79839736 0.79839736 0.79839736 0.79839736 0.79839736 0.79839736\n",
      " 0.79839736 0.79839736 0.79839736 0.79839736 0.79839736 0.79839736\n",
      " 0.79839736 0.79839736 0.79839736 0.79839736 0.79839736 0.79839736\n",
      " 0.79839736 0.79839736 0.79839736 0.79839736]\n"
     ]
    }
   ],
   "source": [
    "p_vector_2 = np.zeros(100)\n",
    "np.random.seed(18694)\n",
    "for i in range(100):\n",
    "    df = sim_2\n",
    "    \n",
    "    groups = [grp[\"Yield\"].values\n",
    "              for _, grp in df.groupby(\"Fertilizer\")]\n",
    "    \n",
    "    F_stat, p_val = stats.f_oneway(*groups)\n",
    "    \n",
    "    p_vector[i] = p_val\n",
    "\n",
    "print(p_vector)"
   ]
  },
  {
   "cell_type": "code",
   "execution_count": 478,
   "id": "8417f31e-a827-48fc-bf2b-b47068d84b16",
   "metadata": {},
   "outputs": [
    {
     "name": "stdout",
     "output_type": "stream",
     "text": [
      "[0.93880998 0.93880998 0.93880998 0.93880998 0.93880998 0.93880998\n",
      " 0.93880998 0.93880998 0.93880998 0.93880998 0.93880998 0.93880998\n",
      " 0.93880998 0.93880998 0.93880998 0.93880998 0.93880998 0.93880998\n",
      " 0.93880998 0.93880998 0.93880998 0.93880998 0.93880998 0.93880998\n",
      " 0.93880998 0.93880998 0.93880998 0.93880998 0.93880998 0.93880998\n",
      " 0.93880998 0.93880998 0.93880998 0.93880998 0.93880998 0.93880998\n",
      " 0.93880998 0.93880998 0.93880998 0.93880998 0.93880998 0.93880998\n",
      " 0.93880998 0.93880998 0.93880998 0.93880998 0.93880998 0.93880998\n",
      " 0.93880998 0.93880998 0.93880998 0.93880998 0.93880998 0.93880998\n",
      " 0.93880998 0.93880998 0.93880998 0.93880998 0.93880998 0.93880998\n",
      " 0.93880998 0.93880998 0.93880998 0.93880998 0.93880998 0.93880998\n",
      " 0.93880998 0.93880998 0.93880998 0.93880998 0.93880998 0.93880998\n",
      " 0.93880998 0.93880998 0.93880998 0.93880998 0.93880998 0.93880998\n",
      " 0.93880998 0.93880998 0.93880998 0.93880998 0.93880998 0.93880998\n",
      " 0.93880998 0.93880998 0.93880998 0.93880998 0.93880998 0.93880998\n",
      " 0.93880998 0.93880998 0.93880998 0.93880998 0.93880998 0.93880998\n",
      " 0.93880998 0.93880998 0.93880998 0.93880998]\n"
     ]
    }
   ],
   "source": [
    "p_vector_3 = np.zeros(100)\n",
    "np.random.seed(6516)\n",
    "for i in range(100):\n",
    "    df = sim_3\n",
    "    \n",
    "    groups = [grp[\"Yield\"].values\n",
    "              for _, grp in df.groupby(\"Fertilizer\")]\n",
    "    \n",
    "    F_stat, p_val = stats.f_oneway(*groups)\n",
    "    \n",
    "    p_vector[i] = p_val\n",
    "\n",
    "print(p_vector)"
   ]
  },
  {
   "cell_type": "code",
   "execution_count": 488,
   "id": "3b9fc439-b09a-435e-a8e6-a63e45550a83",
   "metadata": {},
   "outputs": [
    {
     "name": "stdout",
     "output_type": "stream",
     "text": [
      "[0.87824839 0.87824839 0.87824839 0.87824839 0.87824839 0.87824839\n",
      " 0.87824839 0.87824839 0.87824839 0.87824839 0.87824839 0.87824839\n",
      " 0.87824839 0.87824839 0.87824839 0.87824839 0.87824839 0.87824839\n",
      " 0.87824839 0.87824839 0.87824839 0.87824839 0.87824839 0.87824839\n",
      " 0.87824839 0.87824839 0.87824839 0.87824839 0.87824839 0.87824839\n",
      " 0.87824839 0.87824839 0.87824839 0.87824839 0.87824839 0.87824839\n",
      " 0.87824839 0.87824839 0.87824839 0.87824839 0.87824839 0.87824839\n",
      " 0.87824839 0.87824839 0.87824839 0.87824839 0.87824839 0.87824839\n",
      " 0.87824839 0.87824839 0.87824839 0.87824839 0.87824839 0.87824839\n",
      " 0.87824839 0.87824839 0.87824839 0.87824839 0.87824839 0.87824839\n",
      " 0.87824839 0.87824839 0.87824839 0.87824839 0.87824839 0.87824839\n",
      " 0.87824839 0.87824839 0.87824839 0.87824839 0.87824839 0.87824839\n",
      " 0.87824839 0.87824839 0.87824839 0.87824839 0.87824839 0.87824839\n",
      " 0.87824839 0.87824839 0.87824839 0.87824839 0.87824839 0.87824839\n",
      " 0.87824839 0.87824839 0.87824839 0.87824839 0.87824839 0.87824839\n",
      " 0.87824839 0.87824839 0.87824839 0.87824839 0.87824839 0.87824839\n",
      " 0.87824839 0.87824839 0.87824839 0.87824839]\n"
     ]
    }
   ],
   "source": [
    "p_vector_4 = np.zeros(100)\n",
    "np.random.seed(5)\n",
    "for i in range(100):\n",
    "    df = sim_4\n",
    "    \n",
    "    groups = [grp[\"Yield\"].values\n",
    "              for _, grp in df.groupby(\"Fertilizer\")]\n",
    "    \n",
    "    F_stat, p_val = stats.f_oneway(*groups)\n",
    "    \n",
    "    p_vector[i] = p_val\n",
    "\n",
    "print(p_vector)"
   ]
  },
  {
   "cell_type": "code",
   "execution_count": 490,
   "id": "f52be344-b3b0-4a8d-b858-c10e96c9394a",
   "metadata": {},
   "outputs": [
    {
     "name": "stdout",
     "output_type": "stream",
     "text": [
      "[0.87711739 0.87711739 0.87711739 0.87711739 0.87711739 0.87711739\n",
      " 0.87711739 0.87711739 0.87711739 0.87711739 0.87711739 0.87711739\n",
      " 0.87711739 0.87711739 0.87711739 0.87711739 0.87711739 0.87711739\n",
      " 0.87711739 0.87711739 0.87711739 0.87711739 0.87711739 0.87711739\n",
      " 0.87711739 0.87711739 0.87711739 0.87711739 0.87711739 0.87711739\n",
      " 0.87711739 0.87711739 0.87711739 0.87711739 0.87711739 0.87711739\n",
      " 0.87711739 0.87711739 0.87711739 0.87711739 0.87711739 0.87711739\n",
      " 0.87711739 0.87711739 0.87711739 0.87711739 0.87711739 0.87711739\n",
      " 0.87711739 0.87711739 0.87711739 0.87711739 0.87711739 0.87711739\n",
      " 0.87711739 0.87711739 0.87711739 0.87711739 0.87711739 0.87711739\n",
      " 0.87711739 0.87711739 0.87711739 0.87711739 0.87711739 0.87711739\n",
      " 0.87711739 0.87711739 0.87711739 0.87711739 0.87711739 0.87711739\n",
      " 0.87711739 0.87711739 0.87711739 0.87711739 0.87711739 0.87711739\n",
      " 0.87711739 0.87711739 0.87711739 0.87711739 0.87711739 0.87711739\n",
      " 0.87711739 0.87711739 0.87711739 0.87711739 0.87711739 0.87711739\n",
      " 0.87711739 0.87711739 0.87711739 0.87711739 0.87711739 0.87711739\n",
      " 0.87711739 0.87711739 0.87711739 0.87711739]\n"
     ]
    }
   ],
   "source": [
    "p_vector_5 = np.zeros(100)\n",
    "np.random.seed(574)\n",
    "for i in range(100):\n",
    "    df = sim_5\n",
    "    \n",
    "    groups = [grp[\"Yield\"].values\n",
    "              for _, grp in df.groupby(\"Fertilizer\")]\n",
    "    \n",
    "    F_stat, p_val = stats.f_oneway(*groups)\n",
    "    \n",
    "    p_vector[i] = p_val\n",
    "\n",
    "print(p_vector)"
   ]
  },
  {
   "cell_type": "code",
   "execution_count": 492,
   "id": "61322524-91c0-4e0b-8f8c-d19e4f25a908",
   "metadata": {},
   "outputs": [
    {
     "name": "stdout",
     "output_type": "stream",
     "text": [
      "[0.97840681 0.97840681 0.97840681 0.97840681 0.97840681 0.97840681\n",
      " 0.97840681 0.97840681 0.97840681 0.97840681 0.97840681 0.97840681\n",
      " 0.97840681 0.97840681 0.97840681 0.97840681 0.97840681 0.97840681\n",
      " 0.97840681 0.97840681 0.97840681 0.97840681 0.97840681 0.97840681\n",
      " 0.97840681 0.97840681 0.97840681 0.97840681 0.97840681 0.97840681\n",
      " 0.97840681 0.97840681 0.97840681 0.97840681 0.97840681 0.97840681\n",
      " 0.97840681 0.97840681 0.97840681 0.97840681 0.97840681 0.97840681\n",
      " 0.97840681 0.97840681 0.97840681 0.97840681 0.97840681 0.97840681\n",
      " 0.97840681 0.97840681 0.97840681 0.97840681 0.97840681 0.97840681\n",
      " 0.97840681 0.97840681 0.97840681 0.97840681 0.97840681 0.97840681\n",
      " 0.97840681 0.97840681 0.97840681 0.97840681 0.97840681 0.97840681\n",
      " 0.97840681 0.97840681 0.97840681 0.97840681 0.97840681 0.97840681\n",
      " 0.97840681 0.97840681 0.97840681 0.97840681 0.97840681 0.97840681\n",
      " 0.97840681 0.97840681 0.97840681 0.97840681 0.97840681 0.97840681\n",
      " 0.97840681 0.97840681 0.97840681 0.97840681 0.97840681 0.97840681\n",
      " 0.97840681 0.97840681 0.97840681 0.97840681 0.97840681 0.97840681\n",
      " 0.97840681 0.97840681 0.97840681 0.97840681]\n"
     ]
    }
   ],
   "source": [
    "p_vector_6 = np.zeros(100)\n",
    "np.random.seed(9476)\n",
    "for i in range(100):\n",
    "    df = sim_6\n",
    "    \n",
    "    groups = [grp[\"Yield\"].values\n",
    "              for _, grp in df.groupby(\"Fertilizer\")]\n",
    "    \n",
    "    F_stat, p_val = stats.f_oneway(*groups)\n",
    "    \n",
    "    p_vector[i] = p_val\n",
    "\n",
    "print(p_vector)"
   ]
  },
  {
   "cell_type": "code",
   "execution_count": 494,
   "id": "0320abfa-5000-43f2-9d51-a2e6881cadd7",
   "metadata": {},
   "outputs": [
    {
     "name": "stdout",
     "output_type": "stream",
     "text": [
      "[0.99968651 0.99968651 0.99968651 0.99968651 0.99968651 0.99968651\n",
      " 0.99968651 0.99968651 0.99968651 0.99968651 0.99968651 0.99968651\n",
      " 0.99968651 0.99968651 0.99968651 0.99968651 0.99968651 0.99968651\n",
      " 0.99968651 0.99968651 0.99968651 0.99968651 0.99968651 0.99968651\n",
      " 0.99968651 0.99968651 0.99968651 0.99968651 0.99968651 0.99968651\n",
      " 0.99968651 0.99968651 0.99968651 0.99968651 0.99968651 0.99968651\n",
      " 0.99968651 0.99968651 0.99968651 0.99968651 0.99968651 0.99968651\n",
      " 0.99968651 0.99968651 0.99968651 0.99968651 0.99968651 0.99968651\n",
      " 0.99968651 0.99968651 0.99968651 0.99968651 0.99968651 0.99968651\n",
      " 0.99968651 0.99968651 0.99968651 0.99968651 0.99968651 0.99968651\n",
      " 0.99968651 0.99968651 0.99968651 0.99968651 0.99968651 0.99968651\n",
      " 0.99968651 0.99968651 0.99968651 0.99968651 0.99968651 0.99968651\n",
      " 0.99968651 0.99968651 0.99968651 0.99968651 0.99968651 0.99968651\n",
      " 0.99968651 0.99968651 0.99968651 0.99968651 0.99968651 0.99968651\n",
      " 0.99968651 0.99968651 0.99968651 0.99968651 0.99968651 0.99968651\n",
      " 0.99968651 0.99968651 0.99968651 0.99968651 0.99968651 0.99968651\n",
      " 0.99968651 0.99968651 0.99968651 0.99968651]\n"
     ]
    }
   ],
   "source": [
    "p_vector_7 = np.zeros(100)\n",
    "np.random.seed(9743)\n",
    "for i in range(100):\n",
    "    df = sim_7\n",
    "    \n",
    "    groups = [grp[\"Yield\"].values\n",
    "              for _, grp in df.groupby(\"Fertilizer\")]\n",
    "    \n",
    "    F_stat, p_val = stats.f_oneway(*groups)\n",
    "    \n",
    "    p_vector[i] = p_val\n",
    "\n",
    "print(p_vector)"
   ]
  },
  {
   "cell_type": "code",
   "execution_count": 511,
   "id": "1bfcb606-5bda-4826-b80c-a35eedfcfcb4",
   "metadata": {
    "scrolled": true
   },
   "outputs": [
    {
     "data": {
      "text/plain": [
       "(array([  0.,   0.,   0.,   0.,   0., 100.,   0.,   0.,   0.,   0.]),\n",
       " array([-0.5, -0.4, -0.3, -0.2, -0.1,  0. ,  0.1,  0.2,  0.3,  0.4,  0.5]),\n",
       " <BarContainer object of 10 artists>)"
      ]
     },
     "execution_count": 511,
     "metadata": {},
     "output_type": "execute_result"
    },
    {
     "data": {
      "image/png": "[encoded data removed]",
      "text/plain": [
       "<Figure size 640x480 with 1 Axes>"
      ]
     },
     "metadata": {},
     "output_type": "display_data"
    }
   ],
   "source": [
    "plt.hist(p_vector_1)"
   ]
  },
  {
   "cell_type": "code",
   "execution_count": 513,
   "id": "f935c1f2-7e2a-4db3-a785-32faab9a1a6e",
   "metadata": {
    "scrolled": true
   },
   "outputs": [
    {
     "data": {
      "text/plain": [
       "(array([  0.,   0.,   0.,   0.,   0., 100.,   0.,   0.,   0.,   0.]),\n",
       " array([-0.5, -0.4, -0.3, -0.2, -0.1,  0. ,  0.1,  0.2,  0.3,  0.4,  0.5]),\n",
       " <BarContainer object of 10 artists>)"
      ]
     },
     "execution_count": 513,
     "metadata": {},
     "output_type": "execute_result"
    },
    {
     "data": {
      "image/png": "[encoded data removed]",
      "text/plain": [
       "<Figure size 640x480 with 1 Axes>"
      ]
     },
     "metadata": {},
     "output_type": "display_data"
    }
   ],
   "source": [
    "plt.hist(p_vector_2)"
   ]
  },
  {
   "cell_type": "code",
   "execution_count": 515,
   "id": "19566ba2-9a38-4b5a-bebf-c5f8f427bdce",
   "metadata": {},
   "outputs": [
    {
     "data": {
      "text/plain": [
       "(array([  0.,   0.,   0.,   0.,   0., 100.,   0.,   0.,   0.,   0.]),\n",
       " array([-0.5, -0.4, -0.3, -0.2, -0.1,  0. ,  0.1,  0.2,  0.3,  0.4,  0.5]),\n",
       " <BarContainer object of 10 artists>)"
      ]
     },
     "execution_count": 515,
     "metadata": {},
     "output_type": "execute_result"
    },
    {
     "data": {
      "image/png": "[encoded data removed]",
      "text/plain": [
       "<Figure size 640x480 with 1 Axes>"
      ]
     },
     "metadata": {},
     "output_type": "display_data"
    }
   ],
   "source": [
    "plt.hist(p_vector_3)"
   ]
  },
  {
   "cell_type": "code",
   "execution_count": 517,
   "id": "4fdcec2e-d51b-4729-8d4b-a722ac39b158",
   "metadata": {},
   "outputs": [
    {
     "data": {
      "text/plain": [
       "(array([  0.,   0.,   0.,   0.,   0., 100.,   0.,   0.,   0.,   0.]),\n",
       " array([-0.5, -0.4, -0.3, -0.2, -0.1,  0. ,  0.1,  0.2,  0.3,  0.4,  0.5]),\n",
       " <BarContainer object of 10 artists>)"
      ]
     },
     "execution_count": 517,
     "metadata": {},
     "output_type": "execute_result"
    },
    {
     "data": {
      "image/png": "[encoded data removed]",
      "text/plain": [
       "<Figure size 640x480 with 1 Axes>"
      ]
     },
     "metadata": {},
     "output_type": "display_data"
    }
   ],
   "source": [
    "plt.hist(p_vector_4)"
   ]
  },
  {
   "cell_type": "code",
   "execution_count": 519,
   "id": "64a27311-de55-4976-ba57-d52cc64a7432",
   "metadata": {},
   "outputs": [
    {
     "data": {
      "text/plain": [
       "(array([  0.,   0.,   0.,   0.,   0., 100.,   0.,   0.,   0.,   0.]),\n",
       " array([-0.5, -0.4, -0.3, -0.2, -0.1,  0. ,  0.1,  0.2,  0.3,  0.4,  0.5]),\n",
       " <BarContainer object of 10 artists>)"
      ]
     },
     "execution_count": 519,
     "metadata": {},
     "output_type": "execute_result"
    },
    {
     "data": {
      "image/png": "[encoded data removed]",
      "text/plain": [
       "<Figure size 640x480 with 1 Axes>"
      ]
     },
     "metadata": {},
     "output_type": "display_data"
    }
   ],
   "source": [
    "plt.hist(p_vector_5)"
   ]
  },
  {
   "cell_type": "code",
   "execution_count": 521,
   "id": "5c455a57-a5ca-4e4f-adbf-0f7d5396acc9",
   "metadata": {},
   "outputs": [
    {
     "data": {
      "text/plain": [
       "(array([  0.,   0.,   0.,   0.,   0., 100.,   0.,   0.,   0.,   0.]),\n",
       " array([-0.5, -0.4, -0.3, -0.2, -0.1,  0. ,  0.1,  0.2,  0.3,  0.4,  0.5]),\n",
       " <BarContainer object of 10 artists>)"
      ]
     },
     "execution_count": 521,
     "metadata": {},
     "output_type": "execute_result"
    },
    {
     "data": {
      "image/png": "[encoded data removed]",
      "text/plain": [
       "<Figure size 640x480 with 1 Axes>"
      ]
     },
     "metadata": {},
     "output_type": "display_data"
    }
   ],
   "source": [
    "plt.hist(p_vector_6)"
   ]
  },
  {
   "cell_type": "code",
   "execution_count": 523,
   "id": "213356f2-d82f-415a-9636-65fc1e406535",
   "metadata": {},
   "outputs": [
    {
     "data": {
      "text/plain": [
       "(array([  0.,   0.,   0.,   0.,   0., 100.,   0.,   0.,   0.,   0.]),\n",
       " array([-0.5, -0.4, -0.3, -0.2, -0.1,  0. ,  0.1,  0.2,  0.3,  0.4,  0.5]),\n",
       " <BarContainer object of 10 artists>)"
      ]
     },
     "execution_count": 523,
     "metadata": {},
     "output_type": "execute_result"
    },
    {
     "data": {
      "image/png": "[encoded data removed]",
      "text/plain": [
       "<Figure size 640x480 with 1 Axes>"
      ]
     },
     "metadata": {},
     "output_type": "display_data"
    }
   ],
   "source": [
    "plt.hist(p_vector_7)"
   ]
  },
  {
   "cell_type": "code",
   "execution_count": null,
   "id": "593b637c-32ae-4b49-aba6-541cccd3e57a",
   "metadata": {},
   "outputs": [],
   "source": []
  },
  {
   "cell_type": "code",
   "execution_count": null,
   "id": "041bddf1-607b-4c7b-a2f2-a9f09f0d3f0a",
   "metadata": {},
   "outputs": [],
   "source": []
  }
 ],
 "metadata": {
  "kernelspec": {
   "display_name": "Python 3 (ipykernel)",
   "language": "python",
   "name": "python3"
  },
  "language_info": {
   "codemirror_mode": {
    "name": "ipython",
    "version": 3
   },
   "file_extension": ".py",
   "mimetype": "text/x-python",
   "name": "python",
   "nbconvert_exporter": "python",
   "pygments_lexer": "ipython3",
   "version": "3.12.4"
  }
 },
 "nbformat": 4,
 "nbformat_minor": 5
}
